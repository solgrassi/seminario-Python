{
 "cells": [
  {
   "cell_type": "code",
   "execution_count": null,
   "metadata": {},
   "outputs": [],
   "source": [
    "import sys\n",
    "import os\n",
    "\n",
    "sys.path.append(os.path.abspath(\"..\"))"
   ]
  },
  {
   "cell_type": "markdown",
   "metadata": {},
   "source": [
    "# Practica 2\n",
    "\n",
    "### Ejercicios del 1 al 9."
   ]
  },
  {
   "cell_type": "markdown",
   "metadata": {},
   "source": [
    "### Ejercicio 1\n",
    "\n",
    "Análisis del Zen de Python:\n",
    " copie el texto del Zen de Python en una variable e imprima todas las líneas cuya segunda\n",
    "palabra comience con una vocal (A, E, I, O, U, a, e, i, o, u).\n",
    " Para verlo en Python, ejecute en la consola \"import this\".\n",
    " Para este punto debe colocar el contenido del Zen de python en una variable string:\n",
    "zen_text = \"\"\"Colocar aquí el Zen de Python\"\"\""
   ]
  },
  {
   "cell_type": "code",
   "execution_count": null,
   "metadata": {},
   "outputs": [],
   "source": [
    "zen_text = \"\"\"\n",
    "    Beautiful is better than ugly,\n",
    "    Explicit is better than implicit,\n",
    "    Simple is better than complex,\n",
    "    Complex is better than complicated,\n",
    "    Flat is better than nested,\n",
    "    Sparse is better than dense,\n",
    "    Readability counts,\n",
    "    Special cases aren't special enough to break the rules,\n",
    "    Although practicality beats purity,\n",
    "    Errors should never pass silently,\n",
    "    Unless explicitly silenced,\n",
    "    In the face of ambiguity, refuse the temptation to guess,\n",
    "    There should be one-- and preferably only one --obvious way to do it,\n",
    "    Although that way may not be obvious at first unless you're Dutch,\n",
    "    Now is better than never,\n",
    "    Although never is often better than *right* now,\n",
    "    If the implementation is hard to explain, it's a bad idea,\n",
    "    If the implementation is easy to explain, it may be a good idea,\n",
    "    Namespaces are one honking great idea -- let's do more of those!\n",
    "    \"\"\"\n",
    "imprimir = []\n",
    "for frase in zen_text.split(\"\\n\"):\n",
    "    palabra = frase.split();\n",
    "    if (len(palabra) > 1) and (palabra[1][0].lower() in \"aeiou\"):\n",
    "        imprimir.append(frase);\n",
    "for frase in imprimir:\n",
    "    print(frase)\n"
   ]
  },
  {
   "cell_type": "markdown",
   "metadata": {},
   "source": [
    "### Ejercicio 2 \n",
    "\n",
    "Dado un listado de títulos de streams en Twitch:\n",
    "\n",
    " titles = [\n",
    "    \"Speedrun de Super Mario en tiempo récord\",\n",
    "    \"Charla sobre desarrollo de videojuegos\",\n",
    "    \"Jugando al nuevo FPS del momento con amigos\",\n",
    "    \"Música en vivo: improvisaciones al piano\"\n",
    " ]\n",
    " \n",
    " Encuentre el título con más palabras y muéstrelo en pantalla."
   ]
  },
  {
   "cell_type": "code",
   "execution_count": null,
   "metadata": {},
   "outputs": [],
   "source": [
    "titles = [\n",
    "    \"Speedrun de Super Mario en tiempo récord\",\n",
    "    \"Charla sobre desarrollo de videojuegos\",\n",
    "    \"Jugando al nuevo FPS del momento con amigos\",\n",
    "    \"Música en vivo: improvisaciones al piano\"\n",
    " ]\n",
    "max = -1\n",
    "for titulo in titles:\n",
    "    if (len(titulo.split())> max):\n",
    "            max = len(titulo.split())\n",
    "            titMay = titulo\n",
    "print(titMay)\n"
   ]
  },
  {
   "cell_type": "markdown",
   "metadata": {},
   "source": [
    "### Ejercicio 3\n",
    "\n",
    " Dado un código de conducta para un servidor de Discord:\n",
    "\n",
    " rules = \"\"\"\n",
    "    Respeta a los demás. No se permiten insultos ni lenguaje ofensivo.\n",
    "    Evita el spam. No publiques enlaces sospechosos o repetitivos.\n",
    "    No compartas información personal.\n",
    "    Usa los canales adecuados para cada tema.\n",
    "    Sigue las instrucciones de los moderadores.\n",
    " \"\"\"\n",
    "\n",
    " Solicite una palabra clave al usuario e imprima todas las reglas que la contengan"
   ]
  },
  {
   "cell_type": "code",
   "execution_count": null,
   "metadata": {},
   "outputs": [],
   "source": [
    "rules = \"\"\"\n",
    "    Respeta a los demás. No se permiten insultos ni lenguaje ofensivo.\n",
    "    Evita el spam. No publiques enlaces sospechosos o repetitivos.\n",
    "    No compartas información personal.\n",
    "    Usa los canales adecuados para cada tema.\n",
    "    Sigue las instrucciones de los moderadores.\n",
    "\"\"\"\n",
    "clave = input(\"Ingrese la palabra clave para filtrar\")\n",
    "reglas = rules.split(\"\\n\")\n",
    "filtradas = list(filter(lambda r: clave.lower() in r.lower(), reglas))\n",
    "for f in filtradas:\n",
    "    print(f)\n"
   ]
  },
  {
   "cell_type": "markdown",
   "metadata": {},
   "source": [
    "### Ejercicio 4\n",
    "\n",
    " Valide un nombre de usuario con los siguientes criterios:\n",
    "\n",
    " Al menos 5 caracteres.\n",
    " Contiene al menos un número.\n",
    " Contiene al menos una letra mayúscula.\n",
    " Solo puede contener letras y números"
   ]
  },
  {
   "cell_type": "code",
   "execution_count": null,
   "metadata": {},
   "outputs": [],
   "source": [
    "import src.punto_cuatro\n",
    "\n",
    "usuario = input(\"Ingrese el nombre de usuario\")\n",
    "print(src.punto_cuatro.validar_usuario(usuario))"
   ]
  },
  {
   "cell_type": "markdown",
   "metadata": {},
   "source": [
    "### Ejercicio 5\n",
    " Dado el tiempo de reacción de un jugador en milisegundos, clasifíquelo en las \n",
    " siguientes categorías:\n",
    " \n",
    " Menos de 200 ms: Rápido; \n",
    " Entre 200 y 500 ms: Normal; \n",
    " Más de 500 ms: Lento."
   ]
  },
  {
   "cell_type": "code",
   "execution_count": null,
   "metadata": {},
   "outputs": [],
   "source": [
    "from src.punto_cinco import clasificar_reaccion\n",
    "\n",
    "tiempo = int(input(\"Ingrese tu tiempo de reaccion en ms\"))\n",
    "print(clasificar_reaccion(tiempo))"
   ]
  },
  {
   "cell_type": "markdown",
   "metadata": {},
   "source": [
    "### Ejercicio 6\n",
    " Dadas varias descripciones de streams en Twitch, cuente cuántas menciones hay de\n",
    " \"entretenimiento\", \"música\" y \"charla\"."
   ]
  },
  {
   "cell_type": "code",
   "execution_count": null,
   "metadata": {},
   "outputs": [],
   "source": [
    "import src.punto_seis\n",
    "\n",
    "desc = [\n",
    " \"Streaming de música en vivo con covers y composiciones\",\n",
    " \"Charla interactiva con la audiencia sobre series y películas\",\n",
    " \"Jugamos a juegos retro y charlamos sobre su historia\",\n",
    " \"Exploramos la mejor música de los 80s y 90s\",\n",
    " \"Programa de entretenimiento con noticias y curiosidades del mundo gamer\",\n",
    " \"Sesión de charla con invitados especiales del mundo del streaming\",\n",
    " \"Música en directo con improvisaciones y peticiones del chat\",\n",
    " \"Un espacio para charlar relajada sobre tecnología y cultura digital\",\n",
    " \"Exploramos el impacto de la música en los videojuegos clásicos\"\n",
    " ]\n",
    "\n",
    "print(src.punto_seis.contar_repeticiones(desc))\n"
   ]
  },
  {
   "cell_type": "markdown",
   "metadata": {},
   "source": [
    "### Ejercicio 7\n",
    "Genere un código de descuento aleatorio para un usuario en base a su nombre, la fecha\n",
    "actual y el resto deben ser números o letras aleatorias. \n",
    "El código debe tener una longitud de 30 caracteres, todas las letras deben ser mayúsculas.\n",
    "El usuario debe ingresarse por teclado y debe validar que no exceda los 15 caracteres"
   ]
  },
  {
   "cell_type": "code",
   "execution_count": null,
   "metadata": {},
   "outputs": [],
   "source": [
    "import src.punto_siete\n",
    "\n",
    "usuario = input(\"Ingrese su nombre\")\n",
    "if (len(usuario)<= 15):\n",
    "    print(\n",
    "        \"su codido de descuento es:\", src.punto_siete.generar_codigo(usuario)\n",
    "    )"
   ]
  },
  {
   "cell_type": "markdown",
   "metadata": {},
   "source": [
    "### Ejercicio 8\n",
    "Determine si dos palabras ingresadas son anagramas (contienen las mismas letras en\n",
    "diferente orden)"
   ]
  },
  {
   "cell_type": "code",
   "execution_count": null,
   "metadata": {},
   "outputs": [],
   "source": [
    "import src.punto_ocho\n",
    "\n",
    "pri = input(\"ingrese la primer palabra\")\n",
    "seg = input(\"Ingrese la segunda palabra\")\n",
    "print(src.punto_ocho.es_anagrama(pri,seg))"
   ]
  },
  {
   "cell_type": "markdown",
   "metadata": {},
   "source": [
    "### Ejercicio 9\n",
    "Se recibibe una lista de nombres de clientes de distintas fuentes.\n",
    "Sin embargo, estos datos contienen errores, espacios en blanco, nombres repetidos y\n",
    "valores nulos.\n",
    "\n",
    "Desarrollar un sistema que limpie y estandarice estos datos para poder usarlos\n",
    " en el sistema de facturación."
   ]
  },
  {
   "cell_type": "code",
   "execution_count": null,
   "metadata": {},
   "outputs": [],
   "source": [
    "import src.punto_nueve\n",
    "clients = [\n",
    " \"  Ana López \", \"Pedro Gómez\", \"maria martínez\", \"Pedro Gómez \", \"\",\n",
    " \" Luis Rodríguez \", None, \"ana lópez\", \"JUAN PÉREZ\", \"MARTA SUÁREZ\",\n",
    " \"luis rodríguez\", \"maría martínez \", \" claudia torres\", \"CLAUDIA TORRES\",\n",
    " \"  \", \"pedro gómez\", \"Juan Pérez\", None, \"Ricardo Fernández\", \"LAURA RAMOS\",\n",
    " \"carlos mendes\", \"RICARDO FERNÁNDEZ  \", \" Laura ramos\", \"CARLOS MENDES\",\n",
    " \"alejandro gonzález\", \" ALEJANDRO GONZÁLEZ  \", \"Patricia Vega\",\n",
    " \"patricia VEGA\", \"Andrés Ocampo\", \"  andrés ocampo\", \"Monica Herrera\",\n",
    " \"MONICA HERRERA  \", \"gabriela ruíz\", \"Gabriela Ruíz\", \"sandra morales\",\n",
    " \"SANDRA MORALES\", \"miguel ángel\", \"Miguel Ángel \", \" Damián Castillo\",\n",
    " \"Damián Castillo  \", None, \"\", \"  \"\n",
    " ]\n",
    "print(src.punto_nueve.limpiar_todo(clients))"
   ]
  }
 ],
 "metadata": {
  "kernelspec": {
   "display_name": "Python 3",
   "language": "python",
   "name": "python3"
  },
  "language_info": {
   "codemirror_mode": {
    "name": "ipython",
    "version": 3
   },
   "file_extension": ".py",
   "mimetype": "text/x-python",
   "name": "python",
   "nbconvert_exporter": "python",
   "pygments_lexer": "ipython3",
   "version": "3.12.9"
  }
 },
 "nbformat": 4,
 "nbformat_minor": 2
}
