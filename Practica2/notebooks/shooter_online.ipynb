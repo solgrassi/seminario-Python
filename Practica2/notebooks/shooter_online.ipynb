{
 "cells": [
  {
   "cell_type": "markdown",
   "metadata": {},
   "source": [
    "# Ejercicio 10\n",
    " Simule varias partidas de un juego de disparos y genere un ranking basado en el puntaje\n",
    " total de cada jugador. Se utilizará el siguiente sistema de puntuación:\n",
    "\n",
    " kill = 3; \n",
    " Asistencia = 1; \n",
    " muerte = -1.\n",
    "\n",
    "Imprima las tablas de resultados luego de la inserción de cada una de las rondas pudiendo\n",
    "ver el progreso en el equipo.\n",
    "Además cada ronda debe tener un MVP (Mejor Jugador del Partido/ronda) basado en su\n",
    "puntuación. La cantidad de veces que el jugador ha sido MVP también se debe contabilizar\n",
    "Se debe imprimir el total de kills, asistencias, muertes, cantidad de MVP y puntos totales. La\n",
    "tabla tienen que estar en orden decreciente por los puntos totales."
   ]
  }
 ],
 "metadata": {
  "language_info": {
   "name": "python"
  }
 },
 "nbformat": 4,
 "nbformat_minor": 2
}
